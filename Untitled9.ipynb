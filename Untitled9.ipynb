{
  "nbformat": 4,
  "nbformat_minor": 0,
  "metadata": {
    "colab": {
      "name": "Untitled9.ipynb",
      "provenance": [],
      "collapsed_sections": [],
      "authorship_tag": "ABX9TyNbIXWY+Io4g7DQ61gAZflQ",
      "include_colab_link": true
    },
    "kernelspec": {
      "name": "python3",
      "display_name": "Python 3"
    }
  },
  "cells": [
    {
      "cell_type": "markdown",
      "metadata": {
        "id": "view-in-github",
        "colab_type": "text"
      },
      "source": [
        "<a href=\"https://colab.research.google.com/github/Xessen/Machine-Learning-Tutorial/blob/main/Untitled9.ipynb\" target=\"_parent\"><img src=\"https://colab.research.google.com/assets/colab-badge.svg\" alt=\"Open In Colab\"/></a>"
      ]
    },
    {
      "cell_type": "code",
      "metadata": {
        "id": "NIjfoKWh5ZH8"
      },
      "source": [
        "import pandas as pd\r\n",
        "import numpy as np\r\n",
        "import matplotlib.pyplot as plt"
      ],
      "execution_count": null,
      "outputs": []
    },
    {
      "cell_type": "markdown",
      "metadata": {
        "id": "MjosWy8F7MvK"
      },
      "source": [
        "#Verileri Yükleme"
      ]
    },
    {
      "cell_type": "code",
      "metadata": {
        "id": "moYwRvaV5k2r"
      },
      "source": [
        "#verileri okuyup değişkene atıyoruz\r\n",
        "veriler=pd.read_csv('veriler.csv')\r\n",
        "boykilo=veriler[['boy','kilo']]\r\n",
        "print(boykilo)"
      ],
      "execution_count": null,
      "outputs": []
    },
    {
      "cell_type": "markdown",
      "metadata": {
        "id": "1HRIicIc84pi"
      },
      "source": [
        "#Eksik Veriler"
      ]
    },
    {
      "cell_type": "code",
      "metadata": {
        "id": "O87ySGSn7qxO"
      },
      "source": [
        "veriler=pd.read_csv('eksikveriler.csv')\r\n",
        "print(veriler[['yas']])\r\n",
        "#yaş kısmında eksik verileri doldurmak için yaş kısmının ortalamasını alıp  yazıyoruz\r\n",
        "from sklearn.impute import SimpleImputer\r\n",
        "#eksik verileri numpy'ın nan objesi olduğunu ve bu değeri doldurma stratejimizin ortalama almak olduğunu söylüyoruz\r\n",
        "imputer=SimpleImputer(missing_values=np.nan,strategy='mean')\r\n",
        "#doldurulması gereken yeri imputerın üzerine overwritelıyoruz\r\n",
        "imputer=imputer.fit(veriler[['yas']])\r\n",
        "veriler[['yas']]=imputer.transform(veriler[['yas']])\r\n",
        "print(veriler[['yas']])\r\n",
        "Yas=veriler[['boy','kilo','yas']]\r\n",
        "print(Yas)"
      ],
      "execution_count": null,
      "outputs": []
    },
    {
      "cell_type": "markdown",
      "metadata": {
        "id": "891t_b7QCyv8"
      },
      "source": [
        "#Kategorik Veriler"
      ]
    },
    {
      "cell_type": "code",
      "metadata": {
        "id": "_3EqW_z49fzx"
      },
      "source": [
        "#Ülke verilerini makinenin anlayabileceği hale getirmek için sayılı hale getirip encode ediyoruz\r\n",
        "ulke=veriler.iloc[:,0:1].values\r\n",
        "\r\n",
        "from sklearn import preprocessing\r\n",
        "#LabelEncoder fonksiyonu ile tr'ye 1 us'ye 2 fr'ye 0 değerini atıyoruz\r\n",
        "le=preprocessing.LabelEncoder()\r\n",
        "ulke[:,0]=le.fit_transform(veriler.iloc[:,0])\r\n",
        "print(ulke)\r\n",
        "#OneHotEncoder ile önceki ülke kodlarımızı binary hale getirip hangisinin doğru olduğunu bulmaya çalışıyoruz\r\n",
        "ohe=preprocessing.OneHotEncoder()\r\n",
        "ulke=ohe.fit_transform(ulke).toarray()\r\n",
        "print(ulke)"
      ],
      "execution_count": null,
      "outputs": []
    },
    {
      "cell_type": "markdown",
      "metadata": {
        "id": "nIqxpYutxFQ9"
      },
      "source": [
        "#Veri Birleştirmesi ve Dataframe\r\n"
      ]
    },
    {
      "cell_type": "code",
      "metadata": {
        "id": "Iy5HnwseJ3WO"
      },
      "source": [
        " sonuc=pd.DataFrame(data=ulke,columns=['fr','tr','us'])\r\n",
        " print(sonuc)\r\n",
        " sonuc2=pd.DataFrame(data=Yas,columns=['boy','kilo','yas'])\r\n",
        " print(sonuc2)\r\n",
        " cinsiyet=veriler.iloc[:,-1].values\r\n",
        " sonuc3=pd.DataFrame(data=cinsiyet,columns=['cinsiyet'])\r\n",
        " s=pd.concat([sonuc,sonuc2],axis=1)\r\n",
        " print(s)\r\n",
        " s2=pd.concat([s,sonuc3], axis=1)\r\n",
        "print(s2)"
      ],
      "execution_count": null,
      "outputs": []
    },
    {
      "cell_type": "markdown",
      "metadata": {
        "id": "Cc333qnj2zke"
      },
      "source": [
        "#Verilerin Eğitim-Test Olarak bölünmesi"
      ]
    },
    {
      "cell_type": "code",
      "metadata": {
        "id": "X_8-bSUu1RBd"
      },
      "source": [
        "from sklearn.model_selection import train_test_split\r\n",
        "\r\n",
        "x_train,x_test,y_train,y_test=train_test_split(s,sonuc3,test_size=0.33, random_state=0)\r\n"
      ],
      "execution_count": null,
      "outputs": []
    },
    {
      "cell_type": "markdown",
      "metadata": {
        "id": "aktAqegaDEE3"
      },
      "source": [
        "#Ölçekleme"
      ]
    },
    {
      "cell_type": "code",
      "metadata": {
        "id": "3T7OLRhO6BI5"
      },
      "source": [
        "from sklearn.preprocessing import StandardScaler\r\n",
        "\r\n",
        "sc=StandardScaler()\r\n",
        "\r\n",
        "X_train = sc.fit_transform(x_train)\r\n",
        "X_test = sc.fit_transform(x_test)\r\n",
        "print(X_train)"
      ],
      "execution_count": null,
      "outputs": []
    },
    {
      "cell_type": "markdown",
      "metadata": {
        "id": "PUV51NKjE0Po"
      },
      "source": [
        "#Veri Önişleme\r\n",
        "    "
      ]
    },
    {
      "cell_type": "code",
      "metadata": {
        "id": "BsIXOXsU-mOn"
      },
      "source": [
        ""
      ],
      "execution_count": null,
      "outputs": []
    }
  ]
}