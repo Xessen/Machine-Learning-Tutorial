{
  "nbformat": 4,
  "nbformat_minor": 0,
  "metadata": {
    "colab": {
      "name": "DeepLearning#1.ipynb",
      "provenance": [],
      "collapsed_sections": [],
      "authorship_tag": "ABX9TyMfXl6AHPC9XlWOD+NoK4Ds",
      "include_colab_link": true
    },
    "kernelspec": {
      "name": "python3",
      "display_name": "Python 3"
    }
  },
  "cells": [
    {
      "cell_type": "markdown",
      "metadata": {
        "id": "view-in-github",
        "colab_type": "text"
      },
      "source": [
        "<a href=\"https://colab.research.google.com/github/Xessen/Machine-Learning-Tutorial/blob/main/DeepLearning_1.ipynb\" target=\"_parent\"><img src=\"https://colab.research.google.com/assets/colab-badge.svg\" alt=\"Open In Colab\"/></a>"
      ]
    },
    {
      "cell_type": "code",
      "metadata": {
        "id": "8nmHSNABGT3-"
      },
      "source": [
        "import numpy as np\r\n",
        "import matplotlib.pyplot as plt\r\n",
        "import h5py\r\n",
        "import scipy\r\n",
        "from PIL import Image\r\n",
        "from scipy import ndimage\r\n",
        "import matplotlib.image as mpimg\r\n",
        "import cv2\r\n",
        "import os"
      ],
      "execution_count": 1,
      "outputs": []
    },
    {
      "cell_type": "code",
      "metadata": {
        "colab": {
          "base_uri": "https://localhost:8080/"
        },
        "id": "-W092DczR4Hb",
        "outputId": "65c14fde-02be-45a2-cf01-0d03e7ba83aa"
      },
      "source": [
        "from google.colab import drive\r\n",
        "\r\n",
        "drive.mount(\"/content/gdrive\")\r\n",
        "!cp -r '/content/gdrive/MyDrive/n_hotdog' n_hotdog\r\n",
        "!cp -r '/content/gdrive/MyDrive/hotdog' hotdog"
      ],
      "execution_count": 2,
      "outputs": [
        {
          "output_type": "stream",
          "text": [
            "Mounted at /content/gdrive\n"
          ],
          "name": "stdout"
        }
      ]
    },
    {
      "cell_type": "code",
      "metadata": {
        "colab": {
          "base_uri": "https://localhost:8080/"
        },
        "id": "MtNmTyTIUzq5",
        "outputId": "d8e8574f-75c1-4d00-ecb1-ce9cd9c44f06"
      },
      "source": [
        "len(os.listdir(\"/content/hotdog\"))"
      ],
      "execution_count": 4,
      "outputs": [
        {
          "output_type": "execute_result",
          "data": {
            "text/plain": [
              "499"
            ]
          },
          "metadata": {
            "tags": []
          },
          "execution_count": 4
        }
      ]
    },
    {
      "cell_type": "code",
      "metadata": {
        "id": "4xwzxg2WGXmz"
      },
      "source": [
        "x_test=[]\r\n",
        "y_test=[[]]\r\n",
        "x_train=[]\r\n",
        "y_train=[[]]\r\n",
        "import random\r\n",
        "path=[\"/content/hotdog\",\"/content/n_hotdog\"]\r\n",
        "def preprocess_image(pathlist):\r\n",
        "  global x_test,x_train,y_test,y_train\r\n",
        "  for path in pathlist:\r\n",
        "    numberoffiles=len(os.listdir(path))\r\n",
        "    counter=0\r\n",
        "    for img in os.listdir(path):\r\n",
        "      #Yüzde 70'ini training 30'unu test olarak ayırıyor.\r\n",
        "      if counter<numberoffiles*0.7:\r\n",
        "        #cv2'nin sıradan renk şeması bgr onu rgb'ye çevirip rgb kodlarını pic'e atıyor\r\n",
        "        pic = cv2.cvtColor(cv2.imread(os.path.join(path,img)),cv2.COLOR_BGR2RGB)\r\n",
        "        #tekrardan okuyup bgr halinden çıkmasını sağlıyor\r\n",
        "        pic = cv2.imread(os.path.join(path,img))\r\n",
        "        #resizelıyor\r\n",
        "        pic = cv2.resize(pic,(80,80))\r\n",
        "        \r\n",
        "        x_train.append([pic])\r\n",
        "        #Manuel ayarlanması gereken bir kısım hangi fotoğrafların 1 hangilerinin 0 değeri alacağını belirliyor\r\n",
        "        if path==\"/content/hotdog\":\r\n",
        "          y_train[0].append(1)\r\n",
        "        else:\r\n",
        "          y_train[0].append(0)\r\n",
        "        counter+=1\r\n",
        "      else:\r\n",
        "        pic = cv2.cvtColor(cv2.imread(os.path.join(path,img)),cv2.COLOR_BGR2RGB)\r\n",
        "        pic = cv2.imread(os.path.join(path,img))\r\n",
        "        pic = cv2.resize(pic,(80,80))\r\n",
        "        x_test.append([pic])\r\n",
        "        if path==\"/content/hotdog\":\r\n",
        "          y_test[0].append(1)\r\n",
        "        else:\r\n",
        "          y_test[0].append(0)\r\n",
        "\r\n",
        "        counter+=1\r\n",
        "  '''eğer accuracy absürd derecede düşük çıkarsa bu kısmı sil at demekki sequence karışmış\r\n",
        "  temp0=list(zip(x_train,y_train))\r\n",
        "  random.shuffle(temp0)\r\n",
        "  x_train,y_train=zip(*temp0)\r\n",
        "  temp1=list(zip(x_test,y_test))\r\n",
        "  random.shuffle(temp1)\r\n",
        "  x_test,y_test=zip(*temp1)\r\n",
        "  '''\r\n",
        "  #listeleri numpy arraylere çeviriyor.\r\n",
        "  x_train=np.array(x_train)\r\n",
        "  y_train=np.array(y_train)\r\n",
        "  x_test=np.array(x_test)\r\n",
        "  y_test=np.array(y_test)\r\n",
        "\r\n",
        "\r\n",
        "preprocess_image(path)"
      ],
      "execution_count": 28,
      "outputs": []
    },
    {
      "cell_type": "code",
      "metadata": {
        "id": "y7VgwZ87OPGk",
        "colab": {
          "base_uri": "https://localhost:8080/"
        },
        "outputId": "b423a14b-fb22-450e-a155-806b12f54cba"
      },
      "source": [
        "print(y_train)"
      ],
      "execution_count": 29,
      "outputs": [
        {
          "output_type": "stream",
          "text": [
            "[[1 1 1 1 1 1 1 1 1 1 1 1 1 1 1 1 1 1 1 1 1 1 1 1 1 1 1 1 1 1 1 1 1 1 1 1\n",
            "  1 1 1 1 1 1 1 1 1 1 1 1 1 1 1 1 1 1 1 1 1 1 1 1 1 1 1 1 1 1 1 1 1 1 1 1\n",
            "  1 1 1 1 1 1 1 1 1 1 1 1 1 1 1 1 1 1 1 1 1 1 1 1 1 1 1 1 1 1 1 1 1 1 1 1\n",
            "  1 1 1 1 1 1 1 1 1 1 1 1 1 1 1 1 1 1 1 1 1 1 1 1 1 1 1 1 1 1 1 1 1 1 1 1\n",
            "  1 1 1 1 1 1 1 1 1 1 1 1 1 1 1 1 1 1 1 1 1 1 1 1 1 1 1 1 1 1 1 1 1 1 1 1\n",
            "  1 1 1 1 1 1 1 1 1 1 1 1 1 1 1 1 1 1 1 1 1 1 1 1 1 1 1 1 1 1 1 1 1 1 1 1\n",
            "  1 1 1 1 1 1 1 1 1 1 1 1 1 1 1 1 1 1 1 1 1 1 1 1 1 1 1 1 1 1 1 1 1 1 1 1\n",
            "  1 1 1 1 1 1 1 1 1 1 1 1 1 1 1 1 1 1 1 1 1 1 1 1 1 1 1 1 1 1 1 1 1 1 1 1\n",
            "  1 1 1 1 1 1 1 1 1 1 1 1 1 1 1 1 1 1 1 1 1 1 1 1 1 1 1 1 1 1 1 1 1 1 1 1\n",
            "  1 1 1 1 1 1 1 1 1 1 1 1 1 1 1 1 1 1 1 1 1 1 1 1 1 1 0 0 0 0 0 0 0 0 0 0\n",
            "  0 0 0 0 0 0 0 0 0 0 0 0 0 0 0 0 0 0 0 0 0 0 0 0 0 0 0 0 0 0 0 0 0 0 0 0\n",
            "  0 0 0 0 0 0 0 0 0 0 0 0 0 0 0 0 0 0 0 0 0 0 0 0 0 0 0 0 0 0 0 0 0 0 0 0\n",
            "  0 0 0 0 0 0 0 0 0 0 0 0 0 0 0 0 0 0 0 0 0 0 0 0 0 0 0 0 0 0 0 0 0 0 0 0\n",
            "  0 0 0 0 0 0 0 0 0 0 0 0 0 0 0 0 0 0 0 0 0 0 0 0 0 0 0 0 0 0 0 0 0 0 0 0\n",
            "  0 0 0 0 0 0 0 0 0 0 0 0 0 0 0 0 0 0 0 0 0 0 0 0 0 0 0 0 0 0 0 0 0 0 0 0\n",
            "  0 0 0 0 0 0 0 0 0 0 0 0 0 0 0 0 0 0 0 0 0 0 0 0 0 0 0 0 0 0 0 0 0 0 0 0\n",
            "  0 0 0 0 0 0 0 0 0 0 0 0 0 0 0 0 0 0 0 0 0 0 0 0 0 0 0 0 0 0 0 0 0 0 0 0\n",
            "  0 0 0 0 0 0 0 0 0 0 0 0 0 0 0 0 0 0 0 0 0 0 0 0 0 0 0 0 0 0 0 0 0 0 0 0\n",
            "  0 0 0 0 0 0 0 0 0 0 0 0 0 0 0 0 0 0 0 0 0 0 0 0 0 0 0 0 0 0 0 0 0 0 0 0\n",
            "  0 0 0 0 0 0 0 0 0 0 0 0 0 0 0 0]]\n"
          ],
          "name": "stdout"
        }
      ]
    },
    {
      "cell_type": "code",
      "metadata": {
        "id": "kn6yxLodORz5"
      },
      "source": [
        ""
      ],
      "execution_count": null,
      "outputs": []
    }
  ]
}